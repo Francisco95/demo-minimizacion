{
 "cells": [
  {
   "cell_type": "markdown",
   "metadata": {},
   "source": [
    "# Minimización\n",
    "\n",
    "Utilizaremos como ejemplo una función tipo $\\chi^2$ para demostrar algunas funciones de minimización."
   ]
  },
  {
   "cell_type": "code",
   "execution_count": 1,
   "metadata": {
    "collapsed": true
   },
   "outputs": [],
   "source": [
    "%matplotlib inline"
   ]
  },
  {
   "cell_type": "code",
   "execution_count": 2,
   "metadata": {
    "collapsed": true
   },
   "outputs": [],
   "source": [
    "import numpy as np\n",
    "import numpy\n",
    "import matplotlib.pyplot as plt\n",
    "from scipy.optimize import (leastsq, curve_fit)"
   ]
  },
  {
   "cell_type": "markdown",
   "metadata": {},
   "source": [
    "# Creando datos falsos para fitear\n",
    "\n",
    "Crearemos datos de la siguiente funcion (esta es la función que querremos recuperar luego):\n",
    "\n",
    "$$ y(x) = A_1 \\times \\exp\\left({\\frac{-(x-\\mu_1)^2}{\\sigma_1^2}}\\right) + 2 \\times \\exp{\\left(\\frac{-(x+\\mu_2)^2}{\\sigma_2^2}\\right)} + \\epsilon $$\n",
    "\n",
    "con:\n",
    "$$ A_1 = 3.5; \\mu_1 = 3.0; \\sigma_1 = \\sqrt{3.0}$$\n",
    "y\n",
    "$$ A_2 = 2.0; \\mu_2 = 1.5; \\sigma_2 = \\sqrt{0.5}$$\n"
   ]
  },
  {
   "cell_type": "code",
   "execution_count": 3,
   "metadata": {
    "collapsed": true
   },
   "outputs": [],
   "source": [
    "def f_modelo(params, x):\n",
    "    A1, mu1, sigma1, A2, mu2, sigma2 = params\n",
    "    return A1 * np.exp(-(x-mu1)**2/sigma1**2) + A2 * np.exp(-(x - mu2)**2/sigma2**2)\n",
    "\n",
    "# Los parametros que luego querremos recuperar:\n",
    "p_real = 3.5, 3.0, np.sqrt(3), 2., -1.5, np.sqrt(0.5)"
   ]
  },
  {
   "cell_type": "markdown",
   "metadata": {},
   "source": [
    "### Visualizando la función"
   ]
  },
  {
   "cell_type": "code",
   "execution_count": 4,
   "metadata": {
    "collapsed": false
   },
   "outputs": [
    {
     "data": {
      "text/plain": [
       "[<matplotlib.lines.Line2D at 0x1099c0790>]"
      ]
     },
     "execution_count": 4,
     "metadata": {},
     "output_type": "execute_result"
    },
    {
     "data": {
      "image/png": "[encoded data removed]",
      "text/plain": [
       "<matplotlib.figure.Figure at 0x1088ca110>"
      ]
     },
     "metadata": {},
     "output_type": "display_data"
    }
   ],
   "source": [
    "x = np.linspace(-4, 8, 1000)\n",
    "plt.plot(x, f_modelo(p_real, x))"
   ]
  },
  {
   "cell_type": "markdown",
   "metadata": {},
   "source": [
    "### Agregando ruido a los datos para que no sea trivial recuperar la función"
   ]
  },
  {
   "cell_type": "code",
   "execution_count": 5,
   "metadata": {
    "collapsed": true
   },
   "outputs": [],
   "source": [
    "np.random.seed(1544)\n",
    "x_muestra = np.random.uniform(low=-4, high=8, size=80)\n",
    "y_scales = np.random.uniform(low=0.1, high=0.8, size=len(x_muestra))\n",
    "y_muestra = f_modelo(p_real, x_muestra) + np.random.normal(loc=0, scale=1, size=len(x_muestra)) * y_scales"
   ]
  },
  {
   "cell_type": "code",
   "execution_count": 6,
   "metadata": {
    "collapsed": false
   },
   "outputs": [
    {
     "data": {
      "text/plain": [
       "<Container object of 3 artists>"
      ]
     },
     "execution_count": 6,
     "metadata": {},
     "output_type": "execute_result"
    },
    {
     "data": {
      "image/png": "[encoded data removed]",
      "text/plain": [
       "<matplotlib.figure.Figure at 0x10995b710>"
      ]
     },
     "metadata": {},
     "output_type": "display_data"
    }
   ],
   "source": [
    "plt.plot(x, f_modelo(p_real, x))\n",
    "plt.errorbar(x_muestra, y_muestra, yerr=y_scales, marker='.', ls='None', capsize=0.)"
   ]
  },
  {
   "cell_type": "markdown",
   "metadata": {},
   "source": [
    "### Hasta ahora no hemos hecho nada, solo definido los datos que queremos modelar.\n",
    "A continuacion haremos los fits.\n",
    "\n",
    "Para ello definimos nuestra función de mérito que es la que queremos minimizar:\n",
    "\n",
    "$$ \\chi^2 = \\sum_{i=0}^N \\left[y_i - f_{modelo}(x_i, \\vec{p})\\right]^2$$"
   ]
  },
  {
   "cell_type": "markdown",
   "metadata": {},
   "source": [
    "## Usando la funcion `leastsq`\n",
    "\n",
    "Se debe definir una funcion, que entrega N componentes, donde N es el tamaño de la muestra. `leastsq` se encarga de elevar al cuadrado cada componente y hacer la suma."
   ]
  },
  {
   "cell_type": "code",
   "execution_count": 7,
   "metadata": {
    "collapsed": true
   },
   "outputs": [],
   "source": [
    "def func_a_minimizar(params, xdata, ydata):\n",
    "    return (ydata - f_modelo(params, xdata))"
   ]
  },
  {
   "cell_type": "code",
   "execution_count": 8,
   "metadata": {
    "collapsed": false
   },
   "outputs": [],
   "source": [
    "p0 = 2., 2., 1., 1., -1., 1. # punto de partida del algoritmo\n",
    "resultado = leastsq(func_a_minimizar, p0, args=(x_muestra, y_muestra))"
   ]
  },
  {
   "cell_type": "code",
   "execution_count": 9,
   "metadata": {
    "collapsed": false
   },
   "outputs": [
    {
     "name": "stdout",
     "output_type": "stream",
     "text": [
      "Status:  1\n",
      "mejor fit:  [ 3.73794145  3.0044089   1.78499394  2.11602814 -1.42543207  0.64944745]\n",
      "parametros originales:  (3.5, 3.0, 1.7320508075688772, 2.0, -1.5, 0.70710678118654757)\n"
     ]
    }
   ],
   "source": [
    "print \"Status: \", resultado[1]\n",
    "print \"mejor fit: \", resultado[0]\n",
    "print \"parametros originales: \", p_real"
   ]
  },
  {
   "cell_type": "markdown",
   "metadata": {},
   "source": [
    "### Veamos como se ve el fit obtenido"
   ]
  },
  {
   "cell_type": "code",
   "execution_count": 10,
   "metadata": {
    "collapsed": false
   },
   "outputs": [
    {
     "data": {
      "text/plain": [
       "[<matplotlib.lines.Line2D at 0x109bffad0>]"
      ]
     },
     "execution_count": 10,
     "metadata": {},
     "output_type": "execute_result"
    },
    {
     "data": {
      "image/png": "[encoded data removed]",
      "text/plain": [
       "<matplotlib.figure.Figure at 0x109b8c250>"
      ]
     },
     "metadata": {},
     "output_type": "display_data"
    }
   ],
   "source": [
    "plt.plot(x, f_modelo(p_real, x), 'b--')\n",
    "plt.errorbar(x_muestra, y_muestra, yerr=y_scales, marker='.', ls='None', capsize=0., color='g')\n",
    "plt.plot(x, f_modelo(resultado[0], x), 'r-')"
   ]
  },
  {
   "cell_type": "markdown",
   "metadata": {},
   "source": [
    "## `curve_fit`\n",
    "\n",
    "`curve_fit` es un wrapper para que llamar a `leastsq` sea un poco mas fácil.\n",
    "Noten que la función que hay que entregarle es un poco distinta."
   ]
  },
  {
   "cell_type": "code",
   "execution_count": 11,
   "metadata": {
    "collapsed": true
   },
   "outputs": [],
   "source": [
    "def func_a_minimizar_con_cf(x, A1, mu1, sigma1, A2, mu2, sigma2):\n",
    "    params = A1, mu1, sigma1, A2, mu2, sigma2\n",
    "    return f_modelo(params, x)"
   ]
  },
  {
   "cell_type": "code",
   "execution_count": 12,
   "metadata": {
    "collapsed": false
   },
   "outputs": [],
   "source": [
    "p_optimo, p_covarianza = curve_fit(func_a_minimizar_con_cf, x_muestra, y_muestra, p0)"
   ]
  },
  {
   "cell_type": "code",
   "execution_count": 13,
   "metadata": {
    "collapsed": false
   },
   "outputs": [
    {
     "data": {
      "text/plain": [
       "array([ 3.73794145,  3.0044089 ,  1.78499394,  2.11602814, -1.42543207,\n",
       "        0.64944745])"
      ]
     },
     "execution_count": 13,
     "metadata": {},
     "output_type": "execute_result"
    }
   ],
   "source": [
    "p_optimo"
   ]
  },
  {
   "cell_type": "code",
   "execution_count": 14,
   "metadata": {
    "collapsed": false
   },
   "outputs": [
    {
     "data": {
      "text/plain": [
       "[<matplotlib.lines.Line2D at 0x109cce290>]"
      ]
     },
     "execution_count": 14,
     "metadata": {},
     "output_type": "execute_result"
    },
    {
     "data": {
      "image/png": "[encoded data removed]",
      "text/plain": [
       "<matplotlib.figure.Figure at 0x109cce7d0>"
      ]
     },
     "metadata": {},
     "output_type": "display_data"
    }
   ],
   "source": [
    "plt.plot(x, f_modelo(p_real, x), 'b--')\n",
    "plt.errorbar(x_muestra, y_muestra, yerr=y_scales, marker='.', ls='None', capsize=0., color='g')\n",
    "plt.plot(x, f_modelo(p_optimo, x), 'r-')"
   ]
  },
  {
   "cell_type": "markdown",
   "metadata": {},
   "source": [
    "### El metodo es muy sensible a los parametros iniciales de busqueda, especialmente para muchos parametros."
   ]
  },
  {
   "cell_type": "code",
   "execution_count": 15,
   "metadata": {
    "collapsed": false
   },
   "outputs": [
    {
     "name": "stdout",
     "output_type": "stream",
     "text": [
      "[ 3.73794145  3.0044089   1.78499394  2.11602814 -1.42543207  0.64944745]\n",
      "[ 2.11601602 -1.42542726 -0.64946139  3.73794341  3.00440924 -1.78499243]\n"
     ]
    }
   ],
   "source": [
    "p0 = np.ones(6)\n",
    "p_optimo2, p_covarianza2 = curve_fit(func_a_minimizar_con_cf, x_muestra, y_muestra, p0)\n",
    "print p_optimo\n",
    "print p_optimo2"
   ]
  },
  {
   "cell_type": "code",
   "execution_count": 16,
   "metadata": {
    "collapsed": false
   },
   "outputs": [
    {
     "data": {
      "text/plain": [
       "[<matplotlib.lines.Line2D at 0x10a200fd0>]"
      ]
     },
     "execution_count": 16,
     "metadata": {},
     "output_type": "execute_result"
    },
    {
     "data": {
      "image/png": "[encoded data removed]",
      "text/plain": [
       "<matplotlib.figure.Figure at 0x109d55ad0>"
      ]
     },
     "metadata": {},
     "output_type": "display_data"
    }
   ],
   "source": [
    "plt.plot(x, f_modelo(p_real, x))\n",
    "plt.errorbar(x_muestra, y_muestra, yerr=y_scales, marker='.', ls='None', capsize=0.)\n",
    "plt.plot(x, f_modelo(p_optimo, x))\n",
    "plt.plot(x, f_modelo(p_optimo2, x), 'k') "
   ]
  },
  {
   "cell_type": "markdown",
   "metadata": {},
   "source": [
    "### Probemos otro punto de partida"
   ]
  },
  {
   "cell_type": "code",
   "execution_count": 17,
   "metadata": {
    "collapsed": false
   },
   "outputs": [
    {
     "name": "stdout",
     "output_type": "stream",
     "text": [
      "[ 3.73794145  3.0044089   1.78499394  2.11602814 -1.42543207  0.64944745]\n",
      "[   3.67972363    2.99321302    1.82875388 -150.49306614 -479.27513794\n",
      "  -75.68225819]\n"
     ]
    },
    {
     "name": "stderr",
     "output_type": "stream",
     "text": [
      "/Users/tino/anaconda/lib/python2.7/site-packages/scipy/optimize/minpack.py:604: OptimizeWarning: Covariance of the parameters could not be estimated\n",
      "  category=OptimizeWarning)\n"
     ]
    }
   ],
   "source": [
    "p0 = 3. * np.ones(6)\n",
    "p_optimo3, p_covarianza3 = curve_fit(func_a_minimizar_con_cf, x_muestra, y_muestra, p0)\n",
    "print p_optimo\n",
    "print p_optimo3"
   ]
  },
  {
   "cell_type": "code",
   "execution_count": 18,
   "metadata": {
    "collapsed": false
   },
   "outputs": [
    {
     "data": {
      "text/plain": [
       "[<matplotlib.lines.Line2D at 0x10a381690>]"
      ]
     },
     "execution_count": 18,
     "metadata": {},
     "output_type": "execute_result"
    },
    {
     "data": {
      "image/png": "[encoded data removed]",
      "text/plain": [
       "<matplotlib.figure.Figure at 0x109f80fd0>"
      ]
     },
     "metadata": {},
     "output_type": "display_data"
    }
   ],
   "source": [
    "plt.plot(x, f_modelo(p_real, x))\n",
    "plt.errorbar(x_muestra, y_muestra, yerr=y_scales, marker='.', ls='None', capsize=0.)\n",
    "plt.plot(x, f_modelo(p_optimo, x))\n",
    "plt.plot(x, f_modelo(p_optimo3, x), 'k')"
   ]
  },
  {
   "cell_type": "markdown",
   "metadata": {},
   "source": [
    "# Recomendaciones.\n",
    "\n",
    "Busquen una implementacion más amigable de estas mismas funciones, en particular hay varias que entregan los errores estandard asociados a los parmetros, entre otras bondades.\n",
    "[link](http://www.astro.rug.nl/software/kapteyn/kmpfittutorial.html)\n",
    "\n",
    "* `lmfit`\n",
    "* `kmpfit` [(tutorial muy bueno)](http://www.astro.rug.nl/software/kapteyn/kmpfittutorial.html)\n",
    "* `python sherpa`\n",
    "    \n",
    "A continuacion un ejemplo usando `lmfit`. Para instalarlo, deberia bastar con:\n",
    "\n",
    "        >>> conda install -c https://conda.anaconda.org/tritemio lmfit"
   ]
  },
  {
   "cell_type": "code",
   "execution_count": 19,
   "metadata": {
    "collapsed": false
   },
   "outputs": [
    {
     "name": "stderr",
     "output_type": "stream",
     "text": [
      "/Users/tino/anaconda/lib/python2.7/site-packages/IPython/html.py:14: ShimWarning: The `IPython.html` package has been deprecated. You should import from `notebook` instead. `IPython.html.widgets` has moved to `ipywidgets`.\n",
      "  \"`IPython.html.widgets` has moved to `ipywidgets`.\", ShimWarning)\n"
     ]
    }
   ],
   "source": [
    "import lmfit\n",
    "from lmfit import (minimize, Parameters, report_fit)"
   ]
  },
  {
   "cell_type": "code",
   "execution_count": 20,
   "metadata": {
    "collapsed": true
   },
   "outputs": [],
   "source": [
    "def residual(params, x, y, yerr):\n",
    "    A1 = params['A1'].value\n",
    "    mu1 = params['mu1'].value\n",
    "    sigma1 = params['sigma1'].value\n",
    "    A2 = params['A2'].value\n",
    "    mu2 = params['mu2'].value\n",
    "    sigma2 = params['sigma2'].value\n",
    "    modelo = A1 * numpy.exp(-(x-mu1)**2/sigma1**2) + A2 * numpy.exp(-(x - mu2)**2/sigma2**2)\n",
    "    return (y - modelo) / yerr"
   ]
  },
  {
   "cell_type": "code",
   "execution_count": 21,
   "metadata": {
    "collapsed": false
   },
   "outputs": [],
   "source": [
    "params = Parameters()\n",
    "params.add('A1', value=1)\n",
    "params.add('mu1', value=1)\n",
    "params.add('sigma1', value=1)\n",
    "params.add('A2', value=1)\n",
    "params.add('mu2', value=1)\n",
    "params.add('sigma2', value=1)"
   ]
  },
  {
   "cell_type": "code",
   "execution_count": 22,
   "metadata": {
    "collapsed": false
   },
   "outputs": [],
   "source": [
    "out = minimize(residual, params, args=(x_muestra, y_muestra, y_scales))"
   ]
  },
  {
   "cell_type": "code",
   "execution_count": 23,
   "metadata": {
    "collapsed": false
   },
   "outputs": [
    {
     "name": "stdout",
     "output_type": "stream",
     "text": [
      "[[Fit Statistics]]\n",
      "    # function evals   = 119\n",
      "    # data points      = 80\n",
      "    # variables        = 6\n",
      "    chi-square         = 68.017\n",
      "    reduced chi-square = 0.919\n",
      "[[Variables]]\n",
      "    A1:       3.74544269 +/- 0.213600 (5.70%) (init= 1)\n",
      "    mu1:      3.04675072 +/- 0.049351 (1.62%) (init= 1)\n",
      "    sigma1:   1.71629997 +/- 0.069459 (4.05%) (init= 1)\n",
      "    A2:       2.09109997 +/- 0.114365 (5.47%) (init= 1)\n",
      "    mu2:     -1.40953320 +/- 0.041272 (2.93%) (init= 1)\n",
      "    sigma2:   0.69621812 +/- 0.044194 (6.35%) (init= 1)\n",
      "[[Correlations]] (unreported correlations are <  0.100)\n",
      "    C(A1, sigma1)                = -0.710 \n",
      "    C(A2, mu2)                   =  0.433 \n",
      "    C(A2, sigma2)                = -0.324 \n",
      "    C(mu2, sigma2)               =  0.266 \n",
      "    C(mu1, sigma1)               = -0.169 \n",
      "    C(sigma1, sigma2)            = -0.145 \n",
      "    C(sigma1, mu2)               = -0.135 \n",
      "    C(A1, mu1)                   =  0.113 \n"
     ]
    }
   ],
   "source": [
    "report_fit(out)"
   ]
  },
  {
   "cell_type": "markdown",
   "metadata": {},
   "source": [
    "## Otras recomendaciones\n",
    "\n",
    "Para problemas lineales pueden usar los métodos descritos antes pero es más eficiente y seguro utilizar otros métodos más adecuados. En particular, si planean fitear un polinomio a los datos, `numpy.polifit` es una alternativa rápida. \n",
    "\n",
    "[`statsmodels`](http://statsmodels.sourceforge.net/) es un módulo más completo que implementa regresiones lineales y regresiones lineales generalizadas."
   ]
  }
 ],
 "metadata": {
  "kernelspec": {
   "display_name": "Python 2",
   "language": "python",
   "name": "python2"
  },
  "language_info": {
   "codemirror_mode": {
    "name": "ipython",
    "version": 2
   },
   "file_extension": ".py",
   "mimetype": "text/x-python",
   "name": "python",
   "nbconvert_exporter": "python",
   "pygments_lexer": "ipython2",
   "version": "2.7.11"
  }
 },
 "nbformat": 4,
 "nbformat_minor": 0
}
